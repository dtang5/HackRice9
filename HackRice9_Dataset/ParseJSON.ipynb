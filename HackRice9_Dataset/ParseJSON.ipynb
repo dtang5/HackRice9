{
 "cells": [
  {
   "cell_type": "code",
   "execution_count": 1,
   "metadata": {},
   "outputs": [],
   "source": [
    "import json\n",
    "filename = \"small_review.json\"\n",
    "stars, reviews = [], []\n",
    "with open(filename, 'r') as f:\n",
    "    for line in f:\n",
    "        data = json.loads(line)\n",
    "        stars.append(data[\"stars\"])\n",
    "        reviews.append(data[\"text\"])\n",
    "    f.close()\n",
    "to_write = zip(reviews, stars)"
   ]
  },
  {
   "cell_type": "code",
   "execution_count": 2,
   "metadata": {},
   "outputs": [
    {
     "data": {
      "text/plain": [
       "30"
      ]
     },
     "execution_count": 2,
     "metadata": {},
     "output_type": "execute_result"
    }
   ],
   "source": [
    "len(to_write)"
   ]
  },
  {
   "cell_type": "code",
   "execution_count": 4,
   "metadata": {},
   "outputs": [],
   "source": [
    "with open(\"small_reviews_to_stars.txt\", 'w') as f1:\n",
    "    for tup in to_write:\n",
    "        f1.write(str(tup) + '\\n')\n",
    "    f1.close"
   ]
  }
 ],
 "metadata": {
  "kernelspec": {
   "display_name": "Python 2",
   "language": "python",
   "name": "python2"
  },
  "language_info": {
   "codemirror_mode": {
    "name": "ipython",
    "version": 2
   },
   "file_extension": ".py",
   "mimetype": "text/x-python",
   "name": "python",
   "nbconvert_exporter": "python",
   "pygments_lexer": "ipython2",
   "version": "2.7.15"
  }
 },
 "nbformat": 4,
 "nbformat_minor": 2
}
